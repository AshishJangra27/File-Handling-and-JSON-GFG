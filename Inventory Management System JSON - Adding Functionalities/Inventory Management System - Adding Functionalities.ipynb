{
 "cells": [
  {
   "cell_type": "code",
   "execution_count": 17,
   "metadata": {},
   "outputs": [
    {
     "name": "stdout",
     "output_type": "stream",
     "text": [
      "--------------------MENU---------------------\n",
      "(u'1005', u'Blueberry Cake', 650, 0)\n",
      "(u'1004', u'Chocolate Cake', 550, 8)\n",
      "(u'1003', u'Candy', 2, 950)\n",
      "(u'1002', u'Bar-One', 20, 95)\n",
      "(u'1001', u'5 Star', 10, 195)\n",
      "---------------------------------------------\n",
      "\n",
      "Enter product ID : 1004\n",
      "Enter Quantiry   : 10\n",
      "---------------------------------------------\n",
      "\n",
      "Sorry, We're not having enough quanity of product in our Inventory.\n",
      "We're only having 8 quantity.\n",
      "---------------------------------------------\n",
      "Press Y to purchase: Y\n",
      "---------------------------------------------\n",
      "('Name      : ', u'Chocolate Cake')\n",
      "('Price (Rs): ', 550)\n",
      "('Quantity  : ', 8)\n",
      "---------------------------------------------\n",
      "('Billing   : ', 4400, 'Rs')\n",
      "---------------------------------------------\n",
      "\n",
      "---------------------------------------------\n",
      "  Thanks for your order, Inventory Updated!  \n",
      "---------------------------------------------\n"
     ]
    }
   ],
   "source": [
    "import json\n",
    "\n",
    "ch = 'Y'\n",
    "fd = open('Record.json','r')\n",
    "js = fd.read()\n",
    "fd.close()\n",
    "\n",
    "record = json.loads(js)\n",
    "\n",
    "print(\"--------------------MENU---------------------\")\n",
    "for key in record.keys():\n",
    "    print(key, record[key]['Name'], record[key]['Price'], record[key]['Qn'])\n",
    "print(\"---------------------------------------------\")\n",
    "print('')\n",
    "\n",
    "ui_pr = str(input(\"Enter product ID : \"))\n",
    "ui_qn = int(input(\"Enter Quantiry   : \"))\n",
    "\n",
    "print(\"---------------------------------------------\")\n",
    "print('')\n",
    "\n",
    "if (record[ui_pr]['Qn'] >= ui_qn):\n",
    "\n",
    "    print(\"Name      : \", record[ui_pr][\"Name\"])\n",
    "    print(\"Price (Rs): \", record[ui_pr][\"Price\"])\n",
    "    print(\"Quantity  : \", ui_qn)\n",
    "    print(\"---------------------------------------------\")\n",
    "    print(\"Billing   : \", ui_qn * record[ui_pr][\"Price\"], \"Rs\")\n",
    "    print(\"---------------------------------------------\")\n",
    "\n",
    "    record[ui_pr]['Qn'] = record[ui_pr]['Qn'] - ui_qn\n",
    "\n",
    "else:\n",
    "    \n",
    "    print(\"Sorry, We're not having enough quanity of product in our Inventory.\")\n",
    "    print(\"We're only having \" + str(record[ui_pr]['Qn']) + \" quantity.\")\n",
    "    print(\"---------------------------------------------\")\n",
    "    \n",
    "    ch == str(raw_input(\"Press Y to purchase: \"))\n",
    "    \n",
    "    if(ch == \"Y\" or ch == 'y'):\n",
    "\n",
    "        print(\"---------------------------------------------\")\n",
    "        print(\"Name      : \", record[ui_pr][\"Name\"])\n",
    "        print(\"Price (Rs): \", record[ui_pr][\"Price\"])\n",
    "        print(\"Quantity  : \", record[ui_pr]['Qn'])\n",
    "        print(\"---------------------------------------------\")\n",
    "        print(\"Billing   : \", record[ui_pr]['Qn'] * record[ui_pr][\"Price\"], \"Rs\")\n",
    "        print(\"---------------------------------------------\")\n",
    "\n",
    "        record[ui_pr]['Qn'] = 0\n",
    "        \n",
    "    else:\n",
    "        print(\"Thanks!\")\n",
    "\n",
    "js = json.dumps(record)\n",
    "\n",
    "fd = open('Record.json','w')\n",
    "fd.write(js)\n",
    "fd.close()\n",
    "\n",
    "print('')\n",
    "print(\"---------------------------------------------\")\n",
    "print(\"  Thanks for your order, Inventory Updated!  \")\n",
    "print(\"---------------------------------------------\")"
   ]
  },
  {
   "cell_type": "code",
   "execution_count": 18,
   "metadata": {
    "scrolled": true
   },
   "outputs": [
    {
     "data": {
      "text/plain": [
       "{u'1001': {u'Name': u'5 Star', u'Price': 10, u'Qn': 195},\n",
       " u'1002': {u'Name': u'Bar-One', u'Price': 20, u'Qn': 95},\n",
       " u'1003': {u'Name': u'Candy', u'Price': 2, u'Qn': 950},\n",
       " u'1004': {u'Name': u'Chocolate Cake', u'Price': 550, u'Qn': 0},\n",
       " u'1005': {u'Name': u'Blueberry Cake', u'Price': 650, u'Qn': 0}}"
      ]
     },
     "execution_count": 18,
     "metadata": {},
     "output_type": "execute_result"
    }
   ],
   "source": [
    "record"
   ]
  },
  {
   "cell_type": "code",
   "execution_count": 11,
   "metadata": {},
   "outputs": [],
   "source": []
  },
  {
   "cell_type": "code",
   "execution_count": null,
   "metadata": {},
   "outputs": [],
   "source": []
  }
 ],
 "metadata": {
  "kernelspec": {
   "display_name": "Python 2",
   "language": "python",
   "name": "python2"
  },
  "language_info": {
   "codemirror_mode": {
    "name": "ipython",
    "version": 2
   },
   "file_extension": ".py",
   "mimetype": "text/x-python",
   "name": "python",
   "nbconvert_exporter": "python",
   "pygments_lexer": "ipython2",
   "version": "2.7.16"
  }
 },
 "nbformat": 4,
 "nbformat_minor": 2
}
