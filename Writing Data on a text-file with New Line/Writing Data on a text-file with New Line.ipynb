{
 "cells": [
  {
   "cell_type": "code",
   "execution_count": 83,
   "id": "51327c62",
   "metadata": {},
   "outputs": [
    {
     "name": "stdout",
     "output_type": "stream",
     "text": [
      "Enter the text: Its going to be used when you want to save your data permanently\n"
     ]
    }
   ],
   "source": [
    "fd = open(\"Data.txt\",'a')\n",
    "\n",
    "\n",
    "txt = input(\"Enter the text: \")\n",
    "txt = txt + '.\\n'\n",
    "\n",
    "fd.write(txt)\n",
    "\n",
    "fd.close()"
   ]
  },
  {
   "cell_type": "code",
   "execution_count": null,
   "id": "e327623d",
   "metadata": {},
   "outputs": [],
   "source": []
  }
 ],
 "metadata": {
  "kernelspec": {
   "display_name": "Python 3",
   "language": "python",
   "name": "python3"
  },
  "language_info": {
   "codemirror_mode": {
    "name": "ipython",
    "version": 3
   },
   "file_extension": ".py",
   "mimetype": "text/x-python",
   "name": "python",
   "nbconvert_exporter": "python",
   "pygments_lexer": "ipython3",
   "version": "3.8.8"
  }
 },
 "nbformat": 4,
 "nbformat_minor": 5
}
