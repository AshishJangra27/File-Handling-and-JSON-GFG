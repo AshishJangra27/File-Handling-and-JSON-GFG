{
 "cells": [
  {
   "cell_type": "code",
   "execution_count": 75,
   "id": "08fb4d45",
   "metadata": {},
   "outputs": [],
   "source": [
    "fd = open(\"Data.txt\",'w')\n",
    "\n",
    "\n",
    "fd.write(\"Hello Everyone, Ashish this side.\")\n",
    "\n",
    "fd.close()"
   ]
  },
  {
   "cell_type": "code",
   "execution_count": null,
   "id": "30082956",
   "metadata": {},
   "outputs": [],
   "source": []
  }
 ],
 "metadata": {
  "kernelspec": {
   "display_name": "Python 3",
   "language": "python",
   "name": "python3"
  },
  "language_info": {
   "codemirror_mode": {
    "name": "ipython",
    "version": 3
   },
   "file_extension": ".py",
   "mimetype": "text/x-python",
   "name": "python",
   "nbconvert_exporter": "python",
   "pygments_lexer": "ipython3",
   "version": "3.8.8"
  }
 },
 "nbformat": 4,
 "nbformat_minor": 5
}
